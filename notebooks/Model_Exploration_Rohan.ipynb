{
 "cells": [
  {
   "cell_type": "markdown",
   "id": "1bb1b772",
   "metadata": {},
   "source": [
    "## CSV Preprocessing\n",
    "\n",
    "The modified csvs from this notebook are in data/processed."
   ]
  },
  {
   "cell_type": "code",
   "execution_count": 1,
   "id": "dcf4a71e",
   "metadata": {},
   "outputs": [],
   "source": [
    "import numpy as np\n",
    "from tensorflow.keras import layers, models\n",
    "from tensorflow.keras.utils import to_categorical\n",
    "import tensorflow as tf\n",
    "import os\n",
    "from PIL import Image\n",
    "import importlib\n",
    "import pandas as pd"
   ]
  },
  {
   "cell_type": "code",
   "execution_count": 29,
   "id": "ea11d84f",
   "metadata": {},
   "outputs": [],
   "source": [
    "from csv_Extractor_Rohan import Extractor "
   ]
  },
  {
   "cell_type": "code",
   "execution_count": 30,
   "id": "cae46f61",
   "metadata": {},
   "outputs": [],
   "source": [
    "path = \"D:/Rohan/04_DL/CBIS-DDSM/csv\"\n",
    "base_path = \"D:/Rohan/04_DL/CBIS-DDSM/\""
   ]
  },
  {
   "cell_type": "code",
   "execution_count": 31,
   "id": "13b69851",
   "metadata": {},
   "outputs": [],
   "source": [
    "test = Extractor(path)"
   ]
  },
  {
   "cell_type": "code",
   "execution_count": 32,
   "id": "234b1def",
   "metadata": {},
   "outputs": [
    {
     "data": {
      "text/plain": [
       "['calc_case_description_test_set.csv',\n",
       " 'calc_case_description_train_set.csv',\n",
       " 'dicom_info.csv',\n",
       " 'mass_case_description_test_set.csv',\n",
       " 'mass_case_description_train_set.csv',\n",
       " 'meta.csv']"
      ]
     },
     "execution_count": 32,
     "metadata": {},
     "output_type": "execute_result"
    }
   ],
   "source": [
    "test.get_file_names()"
   ]
  },
  {
   "cell_type": "code",
   "execution_count": 33,
   "id": "804b2416",
   "metadata": {},
   "outputs": [],
   "source": [
    "test.load_df()"
   ]
  },
  {
   "cell_type": "code",
   "execution_count": 34,
   "id": "c1757a4b",
   "metadata": {},
   "outputs": [],
   "source": [
    "test.rename(\"mass_case_description_train_set.csv\",\"mass_train\")\n",
    "test.rename(\"calc_case_description_train_set.csv\",\"calc_train\")"
   ]
  },
  {
   "cell_type": "code",
   "execution_count": 35,
   "id": "21080b2f",
   "metadata": {},
   "outputs": [
    {
     "data": {
      "text/plain": [
       "dict_keys(['calc_case_description_test_set.csv', 'dicom_info.csv', 'mass_case_description_test_set.csv', 'meta.csv', 'mass_train', 'calc_train'])"
      ]
     },
     "execution_count": 35,
     "metadata": {},
     "output_type": "execute_result"
    }
   ],
   "source": [
    "test.dataframes.keys()"
   ]
  },
  {
   "cell_type": "code",
   "execution_count": 9,
   "id": "ba82ac0d",
   "metadata": {},
   "outputs": [
    {
     "data": {
      "text/plain": [
       "'Mass-Training_P_00004_LEFT_CC_1/1.3.6.1.4.1.9590.100.1.2.414182170112396175925115449620455230167/1.3.6.1.4.1.9590.100.1.2.429120414011832984817094399141838850375/000001.dcm\\n'"
      ]
     },
     "execution_count": 9,
     "metadata": {},
     "output_type": "execute_result"
    }
   ],
   "source": [
    "test.dataframes[\"mass_train\"][\"ROI mask file path\"].iloc[2]"
   ]
  },
  {
   "cell_type": "code",
   "execution_count": 10,
   "id": "882ca22f",
   "metadata": {},
   "outputs": [],
   "source": [
    "test.preprocess_steps(filename=[\"calc_train\",\"mass_train\"],image_path=base_path)"
   ]
  },
  {
   "cell_type": "code",
   "execution_count": 11,
   "id": "9932e08b",
   "metadata": {},
   "outputs": [
    {
     "data": {
      "text/plain": [
       "dict_keys(['calc_train', 'mass_train'])"
      ]
     },
     "execution_count": 11,
     "metadata": {},
     "output_type": "execute_result"
    }
   ],
   "source": [
    "test.modified_dataframe.keys()"
   ]
  },
  {
   "cell_type": "code",
   "execution_count": 12,
   "id": "5348444c",
   "metadata": {},
   "outputs": [],
   "source": [
    "calc_train = test.modified_dataframe[\"calc_train\"]\n",
    "mass_train = test.modified_dataframe[\"mass_train\"]"
   ]
  },
  {
   "cell_type": "code",
   "execution_count": 13,
   "id": "206354b4",
   "metadata": {},
   "outputs": [
    {
     "data": {
      "text/html": [
       "<div>\n",
       "<style scoped>\n",
       "    .dataframe tbody tr th:only-of-type {\n",
       "        vertical-align: middle;\n",
       "    }\n",
       "\n",
       "    .dataframe tbody tr th {\n",
       "        vertical-align: top;\n",
       "    }\n",
       "\n",
       "    .dataframe thead th {\n",
       "        text-align: right;\n",
       "    }\n",
       "</style>\n",
       "<table border=\"1\" class=\"dataframe\">\n",
       "  <thead>\n",
       "    <tr style=\"text-align: right;\">\n",
       "      <th></th>\n",
       "      <th>patient_id</th>\n",
       "      <th>assessment</th>\n",
       "      <th>pathology</th>\n",
       "      <th>image file path</th>\n",
       "      <th>ROI mask file path</th>\n",
       "      <th>ROI image</th>\n",
       "      <th>full image</th>\n",
       "    </tr>\n",
       "  </thead>\n",
       "  <tbody>\n",
       "    <tr>\n",
       "      <th>0</th>\n",
       "      <td>P_00001</td>\n",
       "      <td>4</td>\n",
       "      <td>MALIGNANT</td>\n",
       "      <td>D:/Rohan/04_DL/CBIS-DDSM/jpeg/1.3.6.1.4.1.9590...</td>\n",
       "      <td>D:/Rohan/04_DL/CBIS-DDSM/jpeg/1.3.6.1.4.1.9590...</td>\n",
       "      <td>D:/Rohan/04_DL/CBIS-DDSM/jpeg/1.3.6.1.4.1.9590...</td>\n",
       "      <td>D:/Rohan/04_DL/CBIS-DDSM/jpeg/1.3.6.1.4.1.9590...</td>\n",
       "    </tr>\n",
       "    <tr>\n",
       "      <th>1</th>\n",
       "      <td>P_00001</td>\n",
       "      <td>4</td>\n",
       "      <td>MALIGNANT</td>\n",
       "      <td>D:/Rohan/04_DL/CBIS-DDSM/jpeg/1.3.6.1.4.1.9590...</td>\n",
       "      <td>D:/Rohan/04_DL/CBIS-DDSM/jpeg/1.3.6.1.4.1.9590...</td>\n",
       "      <td>D:/Rohan/04_DL/CBIS-DDSM/jpeg/1.3.6.1.4.1.9590...</td>\n",
       "      <td>D:/Rohan/04_DL/CBIS-DDSM/jpeg/1.3.6.1.4.1.9590...</td>\n",
       "    </tr>\n",
       "    <tr>\n",
       "      <th>2</th>\n",
       "      <td>P_00004</td>\n",
       "      <td>4</td>\n",
       "      <td>BENIGN</td>\n",
       "      <td>D:/Rohan/04_DL/CBIS-DDSM/jpeg/1.3.6.1.4.1.9590...</td>\n",
       "      <td>D:/Rohan/04_DL/CBIS-DDSM/jpeg/1.3.6.1.4.1.9590...</td>\n",
       "      <td>D:/Rohan/04_DL/CBIS-DDSM/jpeg/1.3.6.1.4.1.9590...</td>\n",
       "      <td>D:/Rohan/04_DL/CBIS-DDSM/jpeg/1.3.6.1.4.1.9590...</td>\n",
       "    </tr>\n",
       "    <tr>\n",
       "      <th>3</th>\n",
       "      <td>P_00004</td>\n",
       "      <td>4</td>\n",
       "      <td>BENIGN</td>\n",
       "      <td>D:/Rohan/04_DL/CBIS-DDSM/jpeg/1.3.6.1.4.1.9590...</td>\n",
       "      <td>D:/Rohan/04_DL/CBIS-DDSM/jpeg/1.3.6.1.4.1.9590...</td>\n",
       "      <td>D:/Rohan/04_DL/CBIS-DDSM/jpeg/1.3.6.1.4.1.9590...</td>\n",
       "      <td>D:/Rohan/04_DL/CBIS-DDSM/jpeg/1.3.6.1.4.1.9590...</td>\n",
       "    </tr>\n",
       "    <tr>\n",
       "      <th>4</th>\n",
       "      <td>P_00004</td>\n",
       "      <td>4</td>\n",
       "      <td>BENIGN</td>\n",
       "      <td>D:/Rohan/04_DL/CBIS-DDSM/jpeg/1.3.6.1.4.1.9590...</td>\n",
       "      <td>D:/Rohan/04_DL/CBIS-DDSM/jpeg/1.3.6.1.4.1.9590...</td>\n",
       "      <td>D:/Rohan/04_DL/CBIS-DDSM/jpeg/1.3.6.1.4.1.9590...</td>\n",
       "      <td>D:/Rohan/04_DL/CBIS-DDSM/jpeg/1.3.6.1.4.1.9590...</td>\n",
       "    </tr>\n",
       "  </tbody>\n",
       "</table>\n",
       "</div>"
      ],
      "text/plain": [
       "  patient_id  assessment  pathology  \\\n",
       "0    P_00001           4  MALIGNANT   \n",
       "1    P_00001           4  MALIGNANT   \n",
       "2    P_00004           4     BENIGN   \n",
       "3    P_00004           4     BENIGN   \n",
       "4    P_00004           4     BENIGN   \n",
       "\n",
       "                                     image file path  \\\n",
       "0  D:/Rohan/04_DL/CBIS-DDSM/jpeg/1.3.6.1.4.1.9590...   \n",
       "1  D:/Rohan/04_DL/CBIS-DDSM/jpeg/1.3.6.1.4.1.9590...   \n",
       "2  D:/Rohan/04_DL/CBIS-DDSM/jpeg/1.3.6.1.4.1.9590...   \n",
       "3  D:/Rohan/04_DL/CBIS-DDSM/jpeg/1.3.6.1.4.1.9590...   \n",
       "4  D:/Rohan/04_DL/CBIS-DDSM/jpeg/1.3.6.1.4.1.9590...   \n",
       "\n",
       "                                  ROI mask file path  \\\n",
       "0  D:/Rohan/04_DL/CBIS-DDSM/jpeg/1.3.6.1.4.1.9590...   \n",
       "1  D:/Rohan/04_DL/CBIS-DDSM/jpeg/1.3.6.1.4.1.9590...   \n",
       "2  D:/Rohan/04_DL/CBIS-DDSM/jpeg/1.3.6.1.4.1.9590...   \n",
       "3  D:/Rohan/04_DL/CBIS-DDSM/jpeg/1.3.6.1.4.1.9590...   \n",
       "4  D:/Rohan/04_DL/CBIS-DDSM/jpeg/1.3.6.1.4.1.9590...   \n",
       "\n",
       "                                           ROI image  \\\n",
       "0  D:/Rohan/04_DL/CBIS-DDSM/jpeg/1.3.6.1.4.1.9590...   \n",
       "1  D:/Rohan/04_DL/CBIS-DDSM/jpeg/1.3.6.1.4.1.9590...   \n",
       "2  D:/Rohan/04_DL/CBIS-DDSM/jpeg/1.3.6.1.4.1.9590...   \n",
       "3  D:/Rohan/04_DL/CBIS-DDSM/jpeg/1.3.6.1.4.1.9590...   \n",
       "4  D:/Rohan/04_DL/CBIS-DDSM/jpeg/1.3.6.1.4.1.9590...   \n",
       "\n",
       "                                          full image  \n",
       "0  D:/Rohan/04_DL/CBIS-DDSM/jpeg/1.3.6.1.4.1.9590...  \n",
       "1  D:/Rohan/04_DL/CBIS-DDSM/jpeg/1.3.6.1.4.1.9590...  \n",
       "2  D:/Rohan/04_DL/CBIS-DDSM/jpeg/1.3.6.1.4.1.9590...  \n",
       "3  D:/Rohan/04_DL/CBIS-DDSM/jpeg/1.3.6.1.4.1.9590...  \n",
       "4  D:/Rohan/04_DL/CBIS-DDSM/jpeg/1.3.6.1.4.1.9590...  "
      ]
     },
     "execution_count": 13,
     "metadata": {},
     "output_type": "execute_result"
    }
   ],
   "source": [
    "mass_train.head()\n"
   ]
  },
  {
   "cell_type": "code",
   "execution_count": 21,
   "id": "7ab86b86",
   "metadata": {},
   "outputs": [
    {
     "name": "stdout",
     "output_type": "stream",
     "text": [
      "1318\n"
     ]
    }
   ],
   "source": [
    "print(len(mass_train))"
   ]
  },
  {
   "cell_type": "code",
   "execution_count": 17,
   "id": "defeee18",
   "metadata": {},
   "outputs": [
    {
     "name": "stdout",
     "output_type": "stream",
     "text": [
      "patient_id            0\n",
      "assessment            0\n",
      "pathology             0\n",
      "image file path       0\n",
      "ROI mask file path    0\n",
      "ROI image             0\n",
      "full image            0\n",
      "dtype: int64\n"
     ]
    }
   ],
   "source": [
    "print(mass_train.isnull().sum())"
   ]
  },
  {
   "cell_type": "markdown",
   "id": "17fbd841",
   "metadata": {},
   "source": [
    "## Small Model Test"
   ]
  },
  {
   "cell_type": "code",
   "execution_count": 5,
   "id": "155a5407",
   "metadata": {},
   "outputs": [],
   "source": [
    "mass_train = pd.read_csv(\"D:/Rohan/04_DL/mod_csv/mass_train.csv\")\n",
    "calc_train = pd.read_csv(\"D:/Rohan/04_DL/mod_csv/calc_train.csv\")"
   ]
  },
  {
   "cell_type": "code",
   "execution_count": null,
   "id": "f8cc224a",
   "metadata": {},
   "outputs": [
    {
     "data": {
      "text/plain": [
       "<module 'model_Library_Rohan' from 'c:\\\\Users\\\\r.sujeesh\\\\OneDrive - enmodes GmbH\\\\PyAnsysnotebooks\\\\DL\\\\model_Library_Rohan.py'>"
      ]
     },
     "execution_count": 20,
     "metadata": {},
     "output_type": "execute_result"
    }
   ],
   "source": [
    "#importlib.reload(model_Library_Rohan)"
   ]
  },
  {
   "cell_type": "code",
   "execution_count": 9,
   "id": "2135bf8a",
   "metadata": {},
   "outputs": [],
   "source": [
    "import model_Library_Rohan"
   ]
  },
  {
   "cell_type": "code",
   "execution_count": 21,
   "id": "70b9112f",
   "metadata": {},
   "outputs": [],
   "source": [
    "model = model_Library_Rohan.small_unet_test()"
   ]
  },
  {
   "cell_type": "code",
   "execution_count": 22,
   "id": "d732c8e6",
   "metadata": {},
   "outputs": [
    {
     "name": "stdout",
     "output_type": "stream",
     "text": [
      "[PhysicalDevice(name='/physical_device:GPU:0', device_type='GPU')]\n"
     ]
    }
   ],
   "source": [
    "gpus = tf.config.experimental.list_physical_devices('GPU')\n",
    "print(gpus)"
   ]
  },
  {
   "cell_type": "code",
   "execution_count": 17,
   "id": "22a3b9d7",
   "metadata": {},
   "outputs": [],
   "source": [
    "#create sample tensor for unet model feeding\n",
    "n = len(mass_train)\n",
    "image = np.ones((n,256,256,1))\n",
    "mask = np.ones((n,256,256,1))\n"
   ]
  },
  {
   "cell_type": "code",
   "execution_count": 18,
   "id": "1a068d8b",
   "metadata": {},
   "outputs": [],
   "source": [
    "#Normalize and add grayscale channel, resize to unet model input\n",
    "for i, path in enumerate (mass_train[\"full image\"]):\n",
    "    im = Image.open(path)\n",
    "    im=im.resize((256,256))\n",
    "    im = np.asarray(im) / 255.0  \n",
    "    im = np.expand_dims(im, axis=-1)  \n",
    "    image[i]=im"
   ]
  },
  {
   "cell_type": "code",
   "execution_count": 19,
   "id": "620e740b",
   "metadata": {},
   "outputs": [],
   "source": [
    "for j, path in enumerate (mass_train[\"ROI image\"]):\n",
    "    im = Image.open(path)\n",
    "    im=im.resize((256,256))\n",
    "    im = np.asarray(im) / 255.0  # normalize\n",
    "    im = np.expand_dims(im, axis=-1)  # add channel\n",
    "    mask[j]=im"
   ]
  },
  {
   "cell_type": "code",
   "execution_count": 23,
   "id": "56f2f459",
   "metadata": {},
   "outputs": [],
   "source": [
    "train_set = (image,mask)"
   ]
  },
  {
   "cell_type": "code",
   "execution_count": 27,
   "id": "b3ab9978",
   "metadata": {},
   "outputs": [],
   "source": [
    "smaple = image[0]\n",
    "masknew = mask[0]"
   ]
  },
  {
   "cell_type": "code",
   "execution_count": 28,
   "id": "094a15f6",
   "metadata": {},
   "outputs": [],
   "source": [
    "smaple_im = (smaple.squeeze()*255).astype(np.uint8)\n",
    "mask_im = (masknew.squeeze()*255).astype(np.uint8)"
   ]
  },
  {
   "cell_type": "code",
   "execution_count": 29,
   "id": "294ee814",
   "metadata": {},
   "outputs": [],
   "source": [
    "smaple_imm = Image.fromarray(smaple_im)\n",
    "mask_imm =  Image.fromarray(mask_im)"
   ]
  },
  {
   "cell_type": "code",
   "execution_count": 30,
   "id": "300953ec",
   "metadata": {},
   "outputs": [],
   "source": [
    "smaple_imm.show()\n",
    "mask_imm.show()"
   ]
  },
  {
   "cell_type": "code",
   "execution_count": 26,
   "id": "8d873bb5",
   "metadata": {},
   "outputs": [
    {
     "name": "stdout",
     "output_type": "stream",
     "text": [
      "Epoch 1/50\n",
      "83/83 [==============================] - 16s 188ms/step - loss: 0.0186 - accuracy: 0.9939 - dice_coef: 0.1418\n",
      "Epoch 2/50\n",
      "83/83 [==============================] - 16s 189ms/step - loss: 0.0175 - accuracy: 0.9940 - dice_coef: 0.1842\n",
      "Epoch 3/50\n",
      "83/83 [==============================] - 16s 190ms/step - loss: 0.0171 - accuracy: 0.9940 - dice_coef: 0.1933\n",
      "Epoch 4/50\n",
      "83/83 [==============================] - 16s 190ms/step - loss: 0.0165 - accuracy: 0.9942 - dice_coef: 0.2212\n",
      "Epoch 5/50\n",
      "83/83 [==============================] - 16s 192ms/step - loss: 0.0163 - accuracy: 0.9943 - dice_coef: 0.2339\n",
      "Epoch 6/50\n",
      "83/83 [==============================] - 16s 193ms/step - loss: 0.0155 - accuracy: 0.9944 - dice_coef: 0.2561\n",
      "Epoch 7/50\n",
      "83/83 [==============================] - 16s 193ms/step - loss: 0.0153 - accuracy: 0.9944 - dice_coef: 0.2650\n",
      "Epoch 8/50\n",
      "83/83 [==============================] - 16s 194ms/step - loss: 0.0151 - accuracy: 0.9944 - dice_coef: 0.2784\n",
      "Epoch 9/50\n",
      "83/83 [==============================] - 16s 194ms/step - loss: 0.0148 - accuracy: 0.9944 - dice_coef: 0.2780\n",
      "Epoch 10/50\n",
      "83/83 [==============================] - 16s 194ms/step - loss: 0.0143 - accuracy: 0.9946 - dice_coef: 0.3007\n",
      "Epoch 11/50\n",
      "83/83 [==============================] - 16s 194ms/step - loss: 0.0141 - accuracy: 0.9946 - dice_coef: 0.3071\n",
      "Epoch 12/50\n",
      "83/83 [==============================] - 16s 194ms/step - loss: 0.0138 - accuracy: 0.9946 - dice_coef: 0.3194\n",
      "Epoch 13/50\n",
      "83/83 [==============================] - 16s 194ms/step - loss: 0.0127 - accuracy: 0.9949 - dice_coef: 0.3637\n",
      "Epoch 14/50\n",
      "83/83 [==============================] - 16s 194ms/step - loss: 0.0120 - accuracy: 0.9950 - dice_coef: 0.3851\n",
      "Epoch 15/50\n",
      "83/83 [==============================] - 16s 194ms/step - loss: 0.0119 - accuracy: 0.9951 - dice_coef: 0.3888\n",
      "Epoch 16/50\n",
      "83/83 [==============================] - 16s 193ms/step - loss: 0.0118 - accuracy: 0.9951 - dice_coef: 0.4054\n",
      "Epoch 17/50\n",
      "83/83 [==============================] - 16s 194ms/step - loss: 0.0106 - accuracy: 0.9954 - dice_coef: 0.4466\n",
      "Epoch 18/50\n",
      "83/83 [==============================] - 16s 193ms/step - loss: 0.0101 - accuracy: 0.9955 - dice_coef: 0.4714\n",
      "Epoch 19/50\n",
      "83/83 [==============================] - 16s 194ms/step - loss: 0.0095 - accuracy: 0.9957 - dice_coef: 0.4944\n",
      "Epoch 20/50\n",
      "83/83 [==============================] - 16s 194ms/step - loss: 0.0089 - accuracy: 0.9958 - dice_coef: 0.5215\n",
      "Epoch 21/50\n",
      "83/83 [==============================] - 16s 193ms/step - loss: 0.0085 - accuracy: 0.9959 - dice_coef: 0.5363\n",
      "Epoch 22/50\n",
      "83/83 [==============================] - 16s 194ms/step - loss: 0.0079 - accuracy: 0.9960 - dice_coef: 0.5589\n",
      "Epoch 23/50\n",
      "83/83 [==============================] - 16s 194ms/step - loss: 0.0071 - accuracy: 0.9963 - dice_coef: 0.6023\n",
      "Epoch 24/50\n",
      "83/83 [==============================] - 16s 194ms/step - loss: 0.0070 - accuracy: 0.9963 - dice_coef: 0.6120\n",
      "Epoch 25/50\n",
      "83/83 [==============================] - 16s 194ms/step - loss: 0.0065 - accuracy: 0.9965 - dice_coef: 0.6265\n",
      "Epoch 26/50\n",
      "83/83 [==============================] - 16s 193ms/step - loss: 0.0070 - accuracy: 0.9963 - dice_coef: 0.6028\n",
      "Epoch 27/50\n",
      "83/83 [==============================] - 16s 194ms/step - loss: 0.0071 - accuracy: 0.9962 - dice_coef: 0.5980\n",
      "Epoch 28/50\n",
      "83/83 [==============================] - 16s 194ms/step - loss: 0.0063 - accuracy: 0.9965 - dice_coef: 0.6361\n",
      "Epoch 29/50\n",
      "83/83 [==============================] - 16s 195ms/step - loss: 0.0053 - accuracy: 0.9968 - dice_coef: 0.6905\n",
      "Epoch 30/50\n",
      "83/83 [==============================] - 16s 197ms/step - loss: 0.0049 - accuracy: 0.9969 - dice_coef: 0.7092\n",
      "Epoch 31/50\n",
      "83/83 [==============================] - 16s 197ms/step - loss: 0.0048 - accuracy: 0.9969 - dice_coef: 0.7180\n",
      "Epoch 32/50\n",
      "83/83 [==============================] - 16s 198ms/step - loss: 0.0045 - accuracy: 0.9970 - dice_coef: 0.7314\n",
      "Epoch 33/50\n",
      "83/83 [==============================] - 16s 195ms/step - loss: 0.0045 - accuracy: 0.9971 - dice_coef: 0.7340\n",
      "Epoch 34/50\n",
      "83/83 [==============================] - 16s 197ms/step - loss: 0.0040 - accuracy: 0.9972 - dice_coef: 0.7562\n",
      "Epoch 35/50\n",
      "83/83 [==============================] - 16s 197ms/step - loss: 0.0037 - accuracy: 0.9973 - dice_coef: 0.7741\n",
      "Epoch 36/50\n",
      "83/83 [==============================] - 16s 194ms/step - loss: 0.0036 - accuracy: 0.9973 - dice_coef: 0.7798\n",
      "Epoch 37/50\n",
      "83/83 [==============================] - 16s 192ms/step - loss: 0.0034 - accuracy: 0.9974 - dice_coef: 0.7936\n",
      "Epoch 38/50\n",
      "83/83 [==============================] - 16s 192ms/step - loss: 0.0032 - accuracy: 0.9974 - dice_coef: 0.8000\n",
      "Epoch 39/50\n",
      "83/83 [==============================] - 16s 193ms/step - loss: 0.0032 - accuracy: 0.9974 - dice_coef: 0.8023\n",
      "Epoch 40/50\n",
      "83/83 [==============================] - 16s 195ms/step - loss: 0.0032 - accuracy: 0.9974 - dice_coef: 0.8045\n",
      "Epoch 41/50\n",
      "83/83 [==============================] - 16s 194ms/step - loss: 0.0030 - accuracy: 0.9975 - dice_coef: 0.8128\n",
      "Epoch 42/50\n",
      "83/83 [==============================] - 16s 194ms/step - loss: 0.0028 - accuracy: 0.9976 - dice_coef: 0.8256\n",
      "Epoch 43/50\n",
      "83/83 [==============================] - 16s 194ms/step - loss: 0.0027 - accuracy: 0.9976 - dice_coef: 0.8315\n",
      "Epoch 44/50\n",
      "83/83 [==============================] - 16s 194ms/step - loss: 0.0026 - accuracy: 0.9976 - dice_coef: 0.8358\n",
      "Epoch 45/50\n",
      "83/83 [==============================] - 16s 194ms/step - loss: 0.0026 - accuracy: 0.9976 - dice_coef: 0.8356\n",
      "Epoch 46/50\n",
      "83/83 [==============================] - 16s 194ms/step - loss: 0.0027 - accuracy: 0.9976 - dice_coef: 0.8294\n",
      "Epoch 47/50\n",
      "83/83 [==============================] - 16s 194ms/step - loss: 0.0029 - accuracy: 0.9975 - dice_coef: 0.8251\n",
      "Epoch 48/50\n",
      "83/83 [==============================] - 16s 194ms/step - loss: 0.0039 - accuracy: 0.9972 - dice_coef: 0.7709\n",
      "Epoch 49/50\n",
      "83/83 [==============================] - 16s 194ms/step - loss: 0.0083 - accuracy: 0.9960 - dice_coef: 0.5596\n",
      "Epoch 50/50\n",
      "83/83 [==============================] - 16s 194ms/step - loss: 0.0067 - accuracy: 0.9964 - dice_coef: 0.6300\n",
      "13min 25s ± 0 ns per loop (mean ± std. dev. of 1 run, 1 loop each)\n"
     ]
    }
   ],
   "source": [
    "%%timeit -n1 -r1\n",
    "# GPU\n",
    "with tf.device('/GPU:0'):\n",
    "    model.fit(train_set[0],train_set[1],batch_size=16,epochs=50)"
   ]
  },
  {
   "cell_type": "markdown",
   "id": "1e44a9cb",
   "metadata": {},
   "source": [
    "\n",
    "##### Remarks in their order of occurence:\n",
    "\n",
    "1. Image size (512,512) along with a unet of deepest layer with kernel size 1024 is causing OOM error for my GPU specs, if i were to run a batch size of 8. It runs at most with batch size 4.\n",
    "\n",
    "2. Image size (256,256) with deepest layer of size 512 reduces memory load enough to run batch size 8. Maybe deeper layers would be possible with this image size.\n",
    "\n",
    "3. The immediate result of high accuracy was suspicious. I realized that the segmentation problem we are posing is highly imbalanced. The binary masks are imabalanced, weighted towards the background, with smaller regions of interest. This makes the model's job easy, in the sense that it can with high accuracy just predict background, which is not valid.\n",
    "\n",
    "4. This needs to be addressed, with different possible approaches:\n",
    "    - Add different loss metric functions, that adjust for this imbalance. One such i have already tried to implement (please refer to code in model Library) called dice coefficient loss. This metric shows that our model doesnt actually have high accuracy, rather really poor (see the numbers in the epochs above, a good model should be closer to 1!).\n",
    "\n",
    "    - The dataset needs to be evaluated in patches, so that ROIs spatially cover more of each patch.\n",
    "\n",
    "    - a sliding window approach is used.\n",
    "\n",
    "#### Possible tasks to complete:\n",
    "\n",
    "1. Create a good dataloader function to load data in patches,etc.\n",
    "\n",
    "2. define appropriate loss and model functions.\n",
    "\n",
    "..."
   ]
  },
  {
   "cell_type": "code",
   "execution_count": 36,
   "id": "1a871950",
   "metadata": {},
   "outputs": [
    {
     "data": {
      "text/plain": [
       "dict_keys(['calc_case_description_test_set.csv', 'dicom_info.csv', 'mass_case_description_test_set.csv', 'meta.csv', 'mass_train', 'calc_train'])"
      ]
     },
     "execution_count": 36,
     "metadata": {},
     "output_type": "execute_result"
    }
   ],
   "source": [
    "test.dataframes.keys()"
   ]
  },
  {
   "cell_type": "code",
   "execution_count": 37,
   "id": "39d992e6",
   "metadata": {},
   "outputs": [],
   "source": [
    "test.preprocess_steps(filename=[\"mass_case_description_test_set.csv\"],image_path=base_path)"
   ]
  },
  {
   "cell_type": "code",
   "execution_count": 40,
   "id": "605ee4fc",
   "metadata": {},
   "outputs": [],
   "source": [
    "mass_test = test.modified_dataframe[\"mass_case_description_test_set.csv\"]"
   ]
  },
  {
   "cell_type": "code",
   "execution_count": 41,
   "id": "807ae4f8",
   "metadata": {},
   "outputs": [
    {
     "data": {
      "text/html": [
       "<div>\n",
       "<style scoped>\n",
       "    .dataframe tbody tr th:only-of-type {\n",
       "        vertical-align: middle;\n",
       "    }\n",
       "\n",
       "    .dataframe tbody tr th {\n",
       "        vertical-align: top;\n",
       "    }\n",
       "\n",
       "    .dataframe thead th {\n",
       "        text-align: right;\n",
       "    }\n",
       "</style>\n",
       "<table border=\"1\" class=\"dataframe\">\n",
       "  <thead>\n",
       "    <tr style=\"text-align: right;\">\n",
       "      <th></th>\n",
       "      <th>patient_id</th>\n",
       "      <th>assessment</th>\n",
       "      <th>pathology</th>\n",
       "      <th>image file path</th>\n",
       "      <th>ROI mask file path</th>\n",
       "      <th>ROI image</th>\n",
       "      <th>full image</th>\n",
       "    </tr>\n",
       "  </thead>\n",
       "  <tbody>\n",
       "    <tr>\n",
       "      <th>0</th>\n",
       "      <td>P_00016</td>\n",
       "      <td>5</td>\n",
       "      <td>MALIGNANT</td>\n",
       "      <td>D:/Rohan/04_DL/CBIS-DDSM/jpeg/1.3.6.1.4.1.9590...</td>\n",
       "      <td>D:/Rohan/04_DL/CBIS-DDSM/jpeg/1.3.6.1.4.1.9590...</td>\n",
       "      <td>D:/Rohan/04_DL/CBIS-DDSM/jpeg/1.3.6.1.4.1.9590...</td>\n",
       "      <td>D:/Rohan/04_DL/CBIS-DDSM/jpeg/1.3.6.1.4.1.9590...</td>\n",
       "    </tr>\n",
       "    <tr>\n",
       "      <th>1</th>\n",
       "      <td>P_00016</td>\n",
       "      <td>5</td>\n",
       "      <td>MALIGNANT</td>\n",
       "      <td>D:/Rohan/04_DL/CBIS-DDSM/jpeg/1.3.6.1.4.1.9590...</td>\n",
       "      <td>D:/Rohan/04_DL/CBIS-DDSM/jpeg/1.3.6.1.4.1.9590...</td>\n",
       "      <td>D:/Rohan/04_DL/CBIS-DDSM/jpeg/1.3.6.1.4.1.9590...</td>\n",
       "      <td>D:/Rohan/04_DL/CBIS-DDSM/jpeg/1.3.6.1.4.1.9590...</td>\n",
       "    </tr>\n",
       "    <tr>\n",
       "      <th>2</th>\n",
       "      <td>P_00017</td>\n",
       "      <td>4</td>\n",
       "      <td>MALIGNANT</td>\n",
       "      <td>D:/Rohan/04_DL/CBIS-DDSM/jpeg/1.3.6.1.4.1.9590...</td>\n",
       "      <td>D:/Rohan/04_DL/CBIS-DDSM/jpeg/1.3.6.1.4.1.9590...</td>\n",
       "      <td>D:/Rohan/04_DL/CBIS-DDSM/jpeg/1.3.6.1.4.1.9590...</td>\n",
       "      <td>D:/Rohan/04_DL/CBIS-DDSM/jpeg/1.3.6.1.4.1.9590...</td>\n",
       "    </tr>\n",
       "    <tr>\n",
       "      <th>3</th>\n",
       "      <td>P_00017</td>\n",
       "      <td>4</td>\n",
       "      <td>MALIGNANT</td>\n",
       "      <td>D:/Rohan/04_DL/CBIS-DDSM/jpeg/1.3.6.1.4.1.9590...</td>\n",
       "      <td>D:/Rohan/04_DL/CBIS-DDSM/jpeg/1.3.6.1.4.1.9590...</td>\n",
       "      <td>D:/Rohan/04_DL/CBIS-DDSM/jpeg/1.3.6.1.4.1.9590...</td>\n",
       "      <td>D:/Rohan/04_DL/CBIS-DDSM/jpeg/1.3.6.1.4.1.9590...</td>\n",
       "    </tr>\n",
       "    <tr>\n",
       "      <th>4</th>\n",
       "      <td>P_00032</td>\n",
       "      <td>0</td>\n",
       "      <td>BENIGN</td>\n",
       "      <td>D:/Rohan/04_DL/CBIS-DDSM/jpeg/1.3.6.1.4.1.9590...</td>\n",
       "      <td>D:/Rohan/04_DL/CBIS-DDSM/jpeg/1.3.6.1.4.1.9590...</td>\n",
       "      <td>D:/Rohan/04_DL/CBIS-DDSM/jpeg/1.3.6.1.4.1.9590...</td>\n",
       "      <td>D:/Rohan/04_DL/CBIS-DDSM/jpeg/1.3.6.1.4.1.9590...</td>\n",
       "    </tr>\n",
       "  </tbody>\n",
       "</table>\n",
       "</div>"
      ],
      "text/plain": [
       "  patient_id  assessment  pathology  \\\n",
       "0    P_00016           5  MALIGNANT   \n",
       "1    P_00016           5  MALIGNANT   \n",
       "2    P_00017           4  MALIGNANT   \n",
       "3    P_00017           4  MALIGNANT   \n",
       "4    P_00032           0     BENIGN   \n",
       "\n",
       "                                     image file path  \\\n",
       "0  D:/Rohan/04_DL/CBIS-DDSM/jpeg/1.3.6.1.4.1.9590...   \n",
       "1  D:/Rohan/04_DL/CBIS-DDSM/jpeg/1.3.6.1.4.1.9590...   \n",
       "2  D:/Rohan/04_DL/CBIS-DDSM/jpeg/1.3.6.1.4.1.9590...   \n",
       "3  D:/Rohan/04_DL/CBIS-DDSM/jpeg/1.3.6.1.4.1.9590...   \n",
       "4  D:/Rohan/04_DL/CBIS-DDSM/jpeg/1.3.6.1.4.1.9590...   \n",
       "\n",
       "                                  ROI mask file path  \\\n",
       "0  D:/Rohan/04_DL/CBIS-DDSM/jpeg/1.3.6.1.4.1.9590...   \n",
       "1  D:/Rohan/04_DL/CBIS-DDSM/jpeg/1.3.6.1.4.1.9590...   \n",
       "2  D:/Rohan/04_DL/CBIS-DDSM/jpeg/1.3.6.1.4.1.9590...   \n",
       "3  D:/Rohan/04_DL/CBIS-DDSM/jpeg/1.3.6.1.4.1.9590...   \n",
       "4  D:/Rohan/04_DL/CBIS-DDSM/jpeg/1.3.6.1.4.1.9590...   \n",
       "\n",
       "                                           ROI image  \\\n",
       "0  D:/Rohan/04_DL/CBIS-DDSM/jpeg/1.3.6.1.4.1.9590...   \n",
       "1  D:/Rohan/04_DL/CBIS-DDSM/jpeg/1.3.6.1.4.1.9590...   \n",
       "2  D:/Rohan/04_DL/CBIS-DDSM/jpeg/1.3.6.1.4.1.9590...   \n",
       "3  D:/Rohan/04_DL/CBIS-DDSM/jpeg/1.3.6.1.4.1.9590...   \n",
       "4  D:/Rohan/04_DL/CBIS-DDSM/jpeg/1.3.6.1.4.1.9590...   \n",
       "\n",
       "                                          full image  \n",
       "0  D:/Rohan/04_DL/CBIS-DDSM/jpeg/1.3.6.1.4.1.9590...  \n",
       "1  D:/Rohan/04_DL/CBIS-DDSM/jpeg/1.3.6.1.4.1.9590...  \n",
       "2  D:/Rohan/04_DL/CBIS-DDSM/jpeg/1.3.6.1.4.1.9590...  \n",
       "3  D:/Rohan/04_DL/CBIS-DDSM/jpeg/1.3.6.1.4.1.9590...  \n",
       "4  D:/Rohan/04_DL/CBIS-DDSM/jpeg/1.3.6.1.4.1.9590...  "
      ]
     },
     "execution_count": 41,
     "metadata": {},
     "output_type": "execute_result"
    }
   ],
   "source": [
    "mass_test.head()"
   ]
  },
  {
   "cell_type": "code",
   "execution_count": 48,
   "id": "d457ecd2",
   "metadata": {},
   "outputs": [],
   "source": [
    "sample_image = Image.open(mass_test[\"full image\"].iloc[0])\n",
    "sample_image = sample_image.resize((256,256))\n",
    "sample_image = np.asarray(sample_image)\n",
    "sample_image = np.expand_dims(sample_image,axis=-1)\n",
    "\n",
    "real_mask = Image.open(mass_test[\"ROI image\"].iloc[0])"
   ]
  },
  {
   "cell_type": "code",
   "execution_count": 49,
   "id": "d9bb8301",
   "metadata": {},
   "outputs": [
    {
     "name": "stdout",
     "output_type": "stream",
     "text": [
      "WARNING:tensorflow:Model was constructed with shape (None, 256, 256, 1) for input KerasTensor(type_spec=TensorSpec(shape=(None, 256, 256, 1), dtype=tf.float32, name='input_2'), name='input_2', description=\"created by layer 'input_2'\"), but it was called on an input with incompatible shape (32, 256, 1, 1).\n"
     ]
    },
    {
     "ename": "ValueError",
     "evalue": "in user code:\n\n    File \"c:\\Users\\r.sujeesh\\AppData\\Local\\miniconda3\\envs\\tf-2.10-ds\\lib\\site-packages\\keras\\engine\\training.py\", line 2041, in predict_function  *\n        return step_function(self, iterator)\n    File \"c:\\Users\\r.sujeesh\\AppData\\Local\\miniconda3\\envs\\tf-2.10-ds\\lib\\site-packages\\keras\\engine\\training.py\", line 2027, in step_function  **\n        outputs = model.distribute_strategy.run(run_step, args=(data,))\n    File \"c:\\Users\\r.sujeesh\\AppData\\Local\\miniconda3\\envs\\tf-2.10-ds\\lib\\site-packages\\keras\\engine\\training.py\", line 2015, in run_step  **\n        outputs = model.predict_step(data)\n    File \"c:\\Users\\r.sujeesh\\AppData\\Local\\miniconda3\\envs\\tf-2.10-ds\\lib\\site-packages\\keras\\engine\\training.py\", line 1983, in predict_step\n        return self(x, training=False)\n    File \"c:\\Users\\r.sujeesh\\AppData\\Local\\miniconda3\\envs\\tf-2.10-ds\\lib\\site-packages\\keras\\utils\\traceback_utils.py\", line 70, in error_handler\n        raise e.with_traceback(filtered_tb) from None\n\n    ValueError: Exception encountered when calling layer \"max_pooling2d_4\" \"                 f\"(type MaxPooling2D).\n    \n    Negative dimension size caused by subtracting 2 from 1 for '{{node model_1/max_pooling2d_4/MaxPool}} = MaxPool[T=DT_FLOAT, data_format=\"NHWC\", explicit_paddings=[], ksize=[1, 2, 2, 1], padding=\"VALID\", strides=[1, 2, 2, 1]](model_1/conv2d_20/Relu)' with input shapes: [32,256,1,32].\n    \n    Call arguments received by layer \"max_pooling2d_4\" \"                 f\"(type MaxPooling2D):\n      • inputs=tf.Tensor(shape=(32, 256, 1, 32), dtype=float32)\n",
     "output_type": "error",
     "traceback": [
      "\u001b[1;31m---------------------------------------------------------------------------\u001b[0m",
      "\u001b[1;31mValueError\u001b[0m                                Traceback (most recent call last)",
      "Cell \u001b[1;32mIn[49], line 1\u001b[0m\n\u001b[1;32m----> 1\u001b[0m pred_mask \u001b[38;5;241m=\u001b[39m \u001b[43mmodel\u001b[49m\u001b[38;5;241;43m.\u001b[39;49m\u001b[43mpredict\u001b[49m\u001b[43m(\u001b[49m\u001b[43msample_image\u001b[49m\u001b[43m)\u001b[49m\n",
      "File \u001b[1;32mc:\\Users\\r.sujeesh\\AppData\\Local\\miniconda3\\envs\\tf-2.10-ds\\lib\\site-packages\\keras\\utils\\traceback_utils.py:70\u001b[0m, in \u001b[0;36mfilter_traceback.<locals>.error_handler\u001b[1;34m(*args, **kwargs)\u001b[0m\n\u001b[0;32m     67\u001b[0m     filtered_tb \u001b[38;5;241m=\u001b[39m _process_traceback_frames(e\u001b[38;5;241m.\u001b[39m__traceback__)\n\u001b[0;32m     68\u001b[0m     \u001b[38;5;66;03m# To get the full stack trace, call:\u001b[39;00m\n\u001b[0;32m     69\u001b[0m     \u001b[38;5;66;03m# `tf.debugging.disable_traceback_filtering()`\u001b[39;00m\n\u001b[1;32m---> 70\u001b[0m     \u001b[38;5;28;01mraise\u001b[39;00m e\u001b[38;5;241m.\u001b[39mwith_traceback(filtered_tb) \u001b[38;5;28;01mfrom\u001b[39;00m\u001b[38;5;250m \u001b[39m\u001b[38;5;28;01mNone\u001b[39;00m\n\u001b[0;32m     71\u001b[0m \u001b[38;5;28;01mfinally\u001b[39;00m:\n\u001b[0;32m     72\u001b[0m     \u001b[38;5;28;01mdel\u001b[39;00m filtered_tb\n",
      "File \u001b[1;32mC:\\Users\\R051C~1.SUJ\\AppData\\Local\\Temp\\__autograph_generated_filehktbv453.py:15\u001b[0m, in \u001b[0;36mouter_factory.<locals>.inner_factory.<locals>.tf__predict_function\u001b[1;34m(iterator)\u001b[0m\n\u001b[0;32m     13\u001b[0m \u001b[38;5;28;01mtry\u001b[39;00m:\n\u001b[0;32m     14\u001b[0m     do_return \u001b[38;5;241m=\u001b[39m \u001b[38;5;28;01mTrue\u001b[39;00m\n\u001b[1;32m---> 15\u001b[0m     retval_ \u001b[38;5;241m=\u001b[39m ag__\u001b[38;5;241m.\u001b[39mconverted_call(ag__\u001b[38;5;241m.\u001b[39mld(step_function), (ag__\u001b[38;5;241m.\u001b[39mld(\u001b[38;5;28mself\u001b[39m), ag__\u001b[38;5;241m.\u001b[39mld(iterator)), \u001b[38;5;28;01mNone\u001b[39;00m, fscope)\n\u001b[0;32m     16\u001b[0m \u001b[38;5;28;01mexcept\u001b[39;00m:\n\u001b[0;32m     17\u001b[0m     do_return \u001b[38;5;241m=\u001b[39m \u001b[38;5;28;01mFalse\u001b[39;00m\n",
      "\u001b[1;31mValueError\u001b[0m: in user code:\n\n    File \"c:\\Users\\r.sujeesh\\AppData\\Local\\miniconda3\\envs\\tf-2.10-ds\\lib\\site-packages\\keras\\engine\\training.py\", line 2041, in predict_function  *\n        return step_function(self, iterator)\n    File \"c:\\Users\\r.sujeesh\\AppData\\Local\\miniconda3\\envs\\tf-2.10-ds\\lib\\site-packages\\keras\\engine\\training.py\", line 2027, in step_function  **\n        outputs = model.distribute_strategy.run(run_step, args=(data,))\n    File \"c:\\Users\\r.sujeesh\\AppData\\Local\\miniconda3\\envs\\tf-2.10-ds\\lib\\site-packages\\keras\\engine\\training.py\", line 2015, in run_step  **\n        outputs = model.predict_step(data)\n    File \"c:\\Users\\r.sujeesh\\AppData\\Local\\miniconda3\\envs\\tf-2.10-ds\\lib\\site-packages\\keras\\engine\\training.py\", line 1983, in predict_step\n        return self(x, training=False)\n    File \"c:\\Users\\r.sujeesh\\AppData\\Local\\miniconda3\\envs\\tf-2.10-ds\\lib\\site-packages\\keras\\utils\\traceback_utils.py\", line 70, in error_handler\n        raise e.with_traceback(filtered_tb) from None\n\n    ValueError: Exception encountered when calling layer \"max_pooling2d_4\" \"                 f\"(type MaxPooling2D).\n    \n    Negative dimension size caused by subtracting 2 from 1 for '{{node model_1/max_pooling2d_4/MaxPool}} = MaxPool[T=DT_FLOAT, data_format=\"NHWC\", explicit_paddings=[], ksize=[1, 2, 2, 1], padding=\"VALID\", strides=[1, 2, 2, 1]](model_1/conv2d_20/Relu)' with input shapes: [32,256,1,32].\n    \n    Call arguments received by layer \"max_pooling2d_4\" \"                 f\"(type MaxPooling2D):\n      • inputs=tf.Tensor(shape=(32, 256, 1, 32), dtype=float32)\n"
     ]
    }
   ],
   "source": [
    "pred_mask = model.predict(sample_image)"
   ]
  },
  {
   "cell_type": "code",
   "execution_count": null,
   "id": "169b32f3",
   "metadata": {},
   "outputs": [],
   "source": []
  }
 ],
 "metadata": {
  "kernelspec": {
   "display_name": "tf-2.10-ds",
   "language": "python",
   "name": "python3"
  },
  "language_info": {
   "codemirror_mode": {
    "name": "ipython",
    "version": 3
   },
   "file_extension": ".py",
   "mimetype": "text/x-python",
   "name": "python",
   "nbconvert_exporter": "python",
   "pygments_lexer": "ipython3",
   "version": "3.10.16"
  }
 },
 "nbformat": 4,
 "nbformat_minor": 5
}
