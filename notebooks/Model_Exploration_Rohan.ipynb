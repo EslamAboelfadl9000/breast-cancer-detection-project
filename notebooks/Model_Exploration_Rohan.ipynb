{
 "cells": [
  {
   "cell_type": "markdown",
   "id": "3db5d4a3",
   "metadata": {},
   "source": [
    "## Data/CSV Preprocessing"
   ]
  },
  {
   "cell_type": "code",
   "execution_count": 24,
   "id": "dcf4a71e",
   "metadata": {},
   "outputs": [],
   "source": [
    "import numpy as np\n",
    "from tensorflow.keras import layers, models\n",
    "from tensorflow.keras.datasets import cifar10\n",
    "from tensorflow.keras.utils import to_categorical\n",
    "import tensorflow as tf\n",
    "import os\n",
    "from PIL import Image"
   ]
  },
  {
   "cell_type": "code",
   "execution_count": 2,
   "id": "ea11d84f",
   "metadata": {},
   "outputs": [],
   "source": [
    "from csv_Extractor_Rohan import Extractor "
   ]
  },
  {
   "cell_type": "code",
   "execution_count": 3,
   "id": "cae46f61",
   "metadata": {},
   "outputs": [],
   "source": [
    "path = \"/Users/rohansujeesh/Desktop/DeepLearning/DL/cbis-ddsm/csv\"\n",
    "base_path = \"/Users/rohansujeesh/Desktop/DeepLearning/DL/cbis-ddsm/\""
   ]
  },
  {
   "cell_type": "code",
   "execution_count": 4,
   "id": "13b69851",
   "metadata": {},
   "outputs": [],
   "source": [
    "test = Extractor(path)"
   ]
  },
  {
   "cell_type": "code",
   "execution_count": 5,
   "id": "234b1def",
   "metadata": {},
   "outputs": [
    {
     "data": {
      "text/plain": [
       "['mass_case_description_train_set.csv',\n",
       " 'calc_case_description_test_set.csv',\n",
       " 'cleaned_dicom_info.csv',\n",
       " 'calc_case_description_train_set.csv',\n",
       " 'meta.csv',\n",
       " 'dicom_info.csv',\n",
       " 'mass_case_description_test_set.csv']"
      ]
     },
     "execution_count": 5,
     "metadata": {},
     "output_type": "execute_result"
    }
   ],
   "source": [
    "test.get_file_names()"
   ]
  },
  {
   "cell_type": "code",
   "execution_count": 6,
   "id": "804b2416",
   "metadata": {},
   "outputs": [],
   "source": [
    "test.load_df()"
   ]
  },
  {
   "cell_type": "code",
   "execution_count": 7,
   "id": "c1757a4b",
   "metadata": {},
   "outputs": [],
   "source": [
    "test.rename(\"mass_case_description_train_set.csv\",\"mass_train\")\n",
    "test.rename(\"calc_case_description_train_set.csv\",\"calc_train\")"
   ]
  },
  {
   "cell_type": "code",
   "execution_count": 8,
   "id": "21080b2f",
   "metadata": {},
   "outputs": [
    {
     "data": {
      "text/plain": [
       "dict_keys(['calc_case_description_test_set.csv', 'cleaned_dicom_info.csv', 'meta.csv', 'dicom_info.csv', 'mass_case_description_test_set.csv', 'mass_train', 'calc_train'])"
      ]
     },
     "execution_count": 8,
     "metadata": {},
     "output_type": "execute_result"
    }
   ],
   "source": [
    "test.dataframes.keys()"
   ]
  },
  {
   "cell_type": "code",
   "execution_count": 9,
   "id": "882ca22f",
   "metadata": {},
   "outputs": [],
   "source": [
    "test.preprocess_steps(filename=[\"calc_train\",\"mass_train\"],image_path=base_path)"
   ]
  },
  {
   "cell_type": "code",
   "execution_count": 10,
   "id": "9932e08b",
   "metadata": {},
   "outputs": [
    {
     "data": {
      "text/plain": [
       "dict_keys(['calc_train', 'mass_train'])"
      ]
     },
     "execution_count": 10,
     "metadata": {},
     "output_type": "execute_result"
    }
   ],
   "source": [
    "test.modified_dataframe.keys()"
   ]
  },
  {
   "cell_type": "code",
   "execution_count": 13,
   "id": "5348444c",
   "metadata": {},
   "outputs": [],
   "source": [
    "calc_train = test.modified_dataframe[\"calc_train\"]"
   ]
  },
  {
   "cell_type": "code",
   "execution_count": 17,
   "id": "206354b4",
   "metadata": {},
   "outputs": [
    {
     "data": {
      "text/html": [
       "<div>\n",
       "<style scoped>\n",
       "    .dataframe tbody tr th:only-of-type {\n",
       "        vertical-align: middle;\n",
       "    }\n",
       "\n",
       "    .dataframe tbody tr th {\n",
       "        vertical-align: top;\n",
       "    }\n",
       "\n",
       "    .dataframe thead th {\n",
       "        text-align: right;\n",
       "    }\n",
       "</style>\n",
       "<table border=\"1\" class=\"dataframe\">\n",
       "  <thead>\n",
       "    <tr style=\"text-align: right;\">\n",
       "      <th></th>\n",
       "      <th>patient_id</th>\n",
       "      <th>assessment</th>\n",
       "      <th>pathology</th>\n",
       "      <th>image file path</th>\n",
       "      <th>ROI mask file path</th>\n",
       "      <th>ROI image</th>\n",
       "      <th>full image</th>\n",
       "    </tr>\n",
       "  </thead>\n",
       "  <tbody>\n",
       "    <tr>\n",
       "      <th>0</th>\n",
       "      <td>P_00005</td>\n",
       "      <td>3</td>\n",
       "      <td>MALIGNANT</td>\n",
       "      <td>/Users/rohansujeesh/Desktop/DeepLearning/DL/cb...</td>\n",
       "      <td>/Users/rohansujeesh/Desktop/DeepLearning/DL/cb...</td>\n",
       "      <td>/Users/rohansujeesh/Desktop/DeepLearning/DL/cb...</td>\n",
       "      <td>/Users/rohansujeesh/Desktop/DeepLearning/DL/cb...</td>\n",
       "    </tr>\n",
       "    <tr>\n",
       "      <th>1</th>\n",
       "      <td>P_00005</td>\n",
       "      <td>3</td>\n",
       "      <td>MALIGNANT</td>\n",
       "      <td>/Users/rohansujeesh/Desktop/DeepLearning/DL/cb...</td>\n",
       "      <td>/Users/rohansujeesh/Desktop/DeepLearning/DL/cb...</td>\n",
       "      <td>/Users/rohansujeesh/Desktop/DeepLearning/DL/cb...</td>\n",
       "      <td>/Users/rohansujeesh/Desktop/DeepLearning/DL/cb...</td>\n",
       "    </tr>\n",
       "    <tr>\n",
       "      <th>2</th>\n",
       "      <td>P_00007</td>\n",
       "      <td>4</td>\n",
       "      <td>BENIGN</td>\n",
       "      <td>/Users/rohansujeesh/Desktop/DeepLearning/DL/cb...</td>\n",
       "      <td>/Users/rohansujeesh/Desktop/DeepLearning/DL/cb...</td>\n",
       "      <td>/Users/rohansujeesh/Desktop/DeepLearning/DL/cb...</td>\n",
       "      <td>/Users/rohansujeesh/Desktop/DeepLearning/DL/cb...</td>\n",
       "    </tr>\n",
       "    <tr>\n",
       "      <th>3</th>\n",
       "      <td>P_00007</td>\n",
       "      <td>4</td>\n",
       "      <td>BENIGN</td>\n",
       "      <td>/Users/rohansujeesh/Desktop/DeepLearning/DL/cb...</td>\n",
       "      <td>/Users/rohansujeesh/Desktop/DeepLearning/DL/cb...</td>\n",
       "      <td>/Users/rohansujeesh/Desktop/DeepLearning/DL/cb...</td>\n",
       "      <td>/Users/rohansujeesh/Desktop/DeepLearning/DL/cb...</td>\n",
       "    </tr>\n",
       "    <tr>\n",
       "      <th>4</th>\n",
       "      <td>P_00008</td>\n",
       "      <td>2</td>\n",
       "      <td>BENIGN_WITHOUT_CALLBACK</td>\n",
       "      <td>/Users/rohansujeesh/Desktop/DeepLearning/DL/cb...</td>\n",
       "      <td>/Users/rohansujeesh/Desktop/DeepLearning/DL/cb...</td>\n",
       "      <td>/Users/rohansujeesh/Desktop/DeepLearning/DL/cb...</td>\n",
       "      <td>/Users/rohansujeesh/Desktop/DeepLearning/DL/cb...</td>\n",
       "    </tr>\n",
       "  </tbody>\n",
       "</table>\n",
       "</div>"
      ],
      "text/plain": [
       "  patient_id  assessment                pathology  \\\n",
       "0    P_00005           3                MALIGNANT   \n",
       "1    P_00005           3                MALIGNANT   \n",
       "2    P_00007           4                   BENIGN   \n",
       "3    P_00007           4                   BENIGN   \n",
       "4    P_00008           2  BENIGN_WITHOUT_CALLBACK   \n",
       "\n",
       "                                     image file path  \\\n",
       "0  /Users/rohansujeesh/Desktop/DeepLearning/DL/cb...   \n",
       "1  /Users/rohansujeesh/Desktop/DeepLearning/DL/cb...   \n",
       "2  /Users/rohansujeesh/Desktop/DeepLearning/DL/cb...   \n",
       "3  /Users/rohansujeesh/Desktop/DeepLearning/DL/cb...   \n",
       "4  /Users/rohansujeesh/Desktop/DeepLearning/DL/cb...   \n",
       "\n",
       "                                  ROI mask file path  \\\n",
       "0  /Users/rohansujeesh/Desktop/DeepLearning/DL/cb...   \n",
       "1  /Users/rohansujeesh/Desktop/DeepLearning/DL/cb...   \n",
       "2  /Users/rohansujeesh/Desktop/DeepLearning/DL/cb...   \n",
       "3  /Users/rohansujeesh/Desktop/DeepLearning/DL/cb...   \n",
       "4  /Users/rohansujeesh/Desktop/DeepLearning/DL/cb...   \n",
       "\n",
       "                                           ROI image  \\\n",
       "0  /Users/rohansujeesh/Desktop/DeepLearning/DL/cb...   \n",
       "1  /Users/rohansujeesh/Desktop/DeepLearning/DL/cb...   \n",
       "2  /Users/rohansujeesh/Desktop/DeepLearning/DL/cb...   \n",
       "3  /Users/rohansujeesh/Desktop/DeepLearning/DL/cb...   \n",
       "4  /Users/rohansujeesh/Desktop/DeepLearning/DL/cb...   \n",
       "\n",
       "                                          full image  \n",
       "0  /Users/rohansujeesh/Desktop/DeepLearning/DL/cb...  \n",
       "1  /Users/rohansujeesh/Desktop/DeepLearning/DL/cb...  \n",
       "2  /Users/rohansujeesh/Desktop/DeepLearning/DL/cb...  \n",
       "3  /Users/rohansujeesh/Desktop/DeepLearning/DL/cb...  \n",
       "4  /Users/rohansujeesh/Desktop/DeepLearning/DL/cb...  "
      ]
     },
     "execution_count": 17,
     "metadata": {},
     "output_type": "execute_result"
    }
   ],
   "source": [
    "calc_train.head()\n"
   ]
  },
  {
   "cell_type": "code",
   "execution_count": 19,
   "id": "7ab86b86",
   "metadata": {},
   "outputs": [
    {
     "name": "stdout",
     "output_type": "stream",
     "text": [
      "1544\n"
     ]
    }
   ],
   "source": [
    "print(len(calc_train))"
   ]
  },
  {
   "cell_type": "markdown",
   "id": "17fbd841",
   "metadata": {},
   "source": [
    "## Small Model Test"
   ]
  },
  {
   "cell_type": "code",
   "execution_count": 20,
   "id": "2135bf8a",
   "metadata": {},
   "outputs": [],
   "source": [
    "import model_Library_Rohan"
   ]
  },
  {
   "cell_type": "code",
   "execution_count": 21,
   "id": "70b9112f",
   "metadata": {},
   "outputs": [
    {
     "name": "stderr",
     "output_type": "stream",
     "text": [
      "2025-07-23 02:23:42.490401: I metal_plugin/src/device/metal_device.cc:1154] Metal device set to: Apple M2\n",
      "2025-07-23 02:23:42.490506: I metal_plugin/src/device/metal_device.cc:296] systemMemory: 8.00 GB\n",
      "2025-07-23 02:23:42.490872: I metal_plugin/src/device/metal_device.cc:313] maxCacheSize: 2.67 GB\n",
      "2025-07-23 02:23:42.491711: I tensorflow/core/common_runtime/pluggable_device/pluggable_device_factory.cc:303] Could not identify NUMA node of platform GPU ID 0, defaulting to 0. Your kernel may not have been built with NUMA support.\n",
      "2025-07-23 02:23:42.492349: I tensorflow/core/common_runtime/pluggable_device/pluggable_device_factory.cc:269] Created TensorFlow device (/job:localhost/replica:0/task:0/device:GPU:0 with 0 MB memory) -> physical PluggableDevice (device: 0, name: METAL, pci bus id: <undefined>)\n"
     ]
    }
   ],
   "source": [
    "model = model_Library_Rohan.base_unet_test()"
   ]
  },
  {
   "cell_type": "code",
   "execution_count": 22,
   "id": "22a3b9d7",
   "metadata": {},
   "outputs": [],
   "source": [
    "#create sample tensor for unet model feeding\n",
    "n = 10\n",
    "image = np.ones((n,512,512,1))\n",
    "mask = np.ones((n,512,512,1))\n"
   ]
  },
  {
   "cell_type": "code",
   "execution_count": null,
   "id": "1a068d8b",
   "metadata": {},
   "outputs": [],
   "source": [
    "#Normalize and add grayscale channel, resize to unet model input\n",
    "for i, path in enumerate (calc_train[\"full image\"][:10]):\n",
    "    im = Image.open(path)\n",
    "    im=im.resize((512,512))\n",
    "    im = np.asarray(im) / 255.0  \n",
    "    im = np.expand_dims(im, axis=-1)  \n",
    "    image[i]=im"
   ]
  },
  {
   "cell_type": "code",
   "execution_count": 27,
   "id": "620e740b",
   "metadata": {},
   "outputs": [],
   "source": [
    "for i, path in enumerate (calc_train[\"ROI image\"][:10]):\n",
    "    im = Image.open(path)\n",
    "    im=im.resize((512,512))\n",
    "    im = np.asarray(im) / 255.0  # normalize\n",
    "    im = np.expand_dims(im, axis=-1)  # add channel\n",
    "    mask[i]=im"
   ]
  },
  {
   "cell_type": "code",
   "execution_count": 28,
   "id": "56f2f459",
   "metadata": {},
   "outputs": [],
   "source": [
    "train_set = (image,mask)"
   ]
  },
  {
   "cell_type": "code",
   "execution_count": 30,
   "id": "8d873bb5",
   "metadata": {},
   "outputs": [
    {
     "name": "stdout",
     "output_type": "stream",
     "text": [
      "Epoch 1/5\n"
     ]
    },
    {
     "name": "stderr",
     "output_type": "stream",
     "text": [
      "2025-07-23 02:26:48.494150: I tensorflow/core/grappler/optimizers/custom_graph_optimizer_registry.cc:114] Plugin optimizer for device_type GPU is enabled.\n"
     ]
    },
    {
     "name": "stdout",
     "output_type": "stream",
     "text": [
      "2/2 [==============================] - 14s 1s/step - loss: 0.6723 - accuracy: 0.8906\n",
      "Epoch 2/5\n",
      "2/2 [==============================] - 16s 1s/step - loss: 0.8076 - accuracy: 0.8942\n",
      "Epoch 3/5\n",
      "2/2 [==============================] - 15s 1s/step - loss: 0.4114 - accuracy: 0.8942\n",
      "Epoch 4/5\n",
      "2/2 [==============================] - 15s 1s/step - loss: 0.4948 - accuracy: 0.8942\n",
      "Epoch 5/5\n",
      "2/2 [==============================] - 12s 1s/step - loss: 0.4879 - accuracy: 0.8942\n",
      "1min 12s ± 0 ns per loop (mean ± std. dev. of 1 run, 1 loop each)\n"
     ]
    }
   ],
   "source": [
    "%%timeit -n1 -r1\n",
    "# GPU\n",
    "with tf.device('/GPU:0'):\n",
    "    model.fit(train_set[0],train_set[1],batch_size=8,epochs=5)"
   ]
  },
  {
   "cell_type": "code",
   "execution_count": null,
   "id": "1a871950",
   "metadata": {},
   "outputs": [],
   "source": []
  }
 ],
 "metadata": {
  "kernelspec": {
   "display_name": "envDS",
   "language": "python",
   "name": "python3"
  },
  "language_info": {
   "codemirror_mode": {
    "name": "ipython",
    "version": 3
   },
   "file_extension": ".py",
   "mimetype": "text/x-python",
   "name": "python",
   "nbconvert_exporter": "python",
   "pygments_lexer": "ipython3",
   "version": "3.8.12"
  }
 },
 "nbformat": 4,
 "nbformat_minor": 5
}
